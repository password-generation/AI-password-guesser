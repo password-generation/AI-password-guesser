{
 "cells": [
  {
   "cell_type": "code",
   "execution_count": 1,
   "metadata": {},
   "outputs": [
    {
     "name": "stderr",
     "output_type": "stream",
     "text": [
      "2023-11-04 23:38:05.639631: I tensorflow/core/platform/cpu_feature_guard.cc:182] This TensorFlow binary is optimized to use available CPU instructions in performance-critical operations.\n",
      "To enable the following instructions: AVX2 FMA, in other operations, rebuild TensorFlow with the appropriate compiler flags.\n"
     ]
    },
    {
     "name": "stdout",
     "output_type": "stream",
     "text": [
      "WARNING:tensorflow:From /Users/piotr/Downloads/password-generation/AI-cryptanalysis/.venv/lib/python3.11/site-packages/tensorflow/python/compat/v2_compat.py:108: disable_resource_variables (from tensorflow.python.ops.variable_scope) is deprecated and will be removed in a future version.\n",
      "Instructions for updating:\n",
      "non-resource variables are not supported in the long term\n"
     ]
    }
   ],
   "source": [
    "import tensorflow._api.v2.compat.v1 as tf\n",
    "import tensorflow_hub as hub\n",
    "import numpy as np\n",
    "import pickle \n",
    "\n",
    "tf.disable_v2_behavior()\n",
    "tf.reset_default_graph()\n",
    "tf.logging.set_verbosity(tf.logging.ERROR)\n",
    "\n",
    "WILDCARD_CHAR = '\\t'\n",
    "MAX_LEN = 16\n",
    "CHARMAP_PATH = '../DATA/AE_char_map.pickle'\n",
    "MODEL_PATH = '../DATA/AE_based_Noise_a4_ls128_hn4_al8/'"
   ]
  },
  {
   "cell_type": "code",
   "execution_count": 2,
   "metadata": {},
   "outputs": [
    {
     "data": {
      "text/plain": [
       "'p\\t\\t\\tr'"
      ]
     },
     "execution_count": 2,
     "metadata": {},
     "output_type": "execute_result"
    }
   ],
   "source": [
    "template = 'p***r'\n",
    "template = template.replace('*', WILDCARD_CHAR)\n",
    "template"
   ]
  },
  {
   "cell_type": "code",
   "execution_count": 3,
   "metadata": {},
   "outputs": [
    {
     "data": {
      "text/plain": [
       "213"
      ]
     },
     "execution_count": 3,
     "metadata": {},
     "output_type": "execute_result"
    }
   ],
   "source": [
    "with open(CHARMAP_PATH, 'rb') as f:\n",
    "    char2id: dict[str, int] = pickle.load(f)\n",
    "len(char2id)"
   ]
  },
  {
   "cell_type": "code",
   "execution_count": 4,
   "metadata": {},
   "outputs": [],
   "source": [
    "id2char = [''] * len(char2id)\n",
    "for char, id in char2id.items():\n",
    "    id2char[id] = char\n",
    "# id2char"
   ]
  },
  {
   "cell_type": "code",
   "execution_count": 5,
   "metadata": {},
   "outputs": [
    {
     "data": {
      "text/plain": [
       "array([[10, -1, -1, -1, 15,  0,  0,  0,  0,  0,  0,  0,  0,  0,  0,  0]],\n",
       "      dtype=int32)"
      ]
     },
     "execution_count": 5,
     "metadata": {},
     "output_type": "execute_result"
    }
   ],
   "source": [
    "template_as_vector = np.zeros(MAX_LEN, dtype=np.int32)\n",
    "for i, c in enumerate(template): \n",
    "    template_as_vector[i] = char2id.get(c, -1)\n",
    "template_as_vector = template_as_vector[None, :]\n",
    "template_as_vector"
   ]
  },
  {
   "cell_type": "code",
   "execution_count": 6,
   "metadata": {},
   "outputs": [],
   "source": [
    "module = hub.Module(MODEL_PATH)\n",
    "x_placeholder = tf.placeholder(tf.int32, shape=(None, MAX_LEN))\n",
    "\n",
    "# number of samples\n",
    "n = 10000\n",
    "# standard devation\n",
    "stddev = 0.6\n",
    "\n",
    "module_inputs = {'x': x_placeholder, 'stddev': (stddev,), 'n': (n,)}\n",
    "module_dict = module(module_inputs, as_dict=True, signature='sample_from_latent')\n",
    "prediction_tensor = module_dict['prediction']"
   ]
  },
  {
   "cell_type": "code",
   "execution_count": 7,
   "metadata": {},
   "outputs": [
    {
     "name": "stderr",
     "output_type": "stream",
     "text": [
      "2023-11-04 23:38:13.981757: I tensorflow/compiler/mlir/mlir_graph_optimization_pass.cc:382] MLIR V1 optimization pass is not enabled\n"
     ]
    },
    {
     "data": {
      "text/plain": [
       "(10000, 16)"
      ]
     },
     "execution_count": 7,
     "metadata": {},
     "output_type": "execute_result"
    }
   ],
   "source": [
    "with tf.Session() as sess:\n",
    "    sess.run(tf.initialize_all_variables())\n",
    "    samples = sess.run(prediction_tensor, {x_placeholder: template_as_vector})\n",
    "samples.shape"
   ]
  },
  {
   "cell_type": "code",
   "execution_count": 8,
   "metadata": {},
   "outputs": [],
   "source": [
    "samples_as_strings = list(map(\n",
    "    lambda vec: ''.join(id2char[i] for i in vec if i > 0),\n",
    "    samples\n",
    "))\n",
    "# samples_as_strings"
   ]
  },
  {
   "cell_type": "code",
   "execution_count": 9,
   "metadata": {},
   "outputs": [],
   "source": [
    "samples_filtered = list(set(filter(\n",
    "    lambda sample: len(sample) == len(template)\n",
    "                   and all(sc == tc or tc == WILDCARD_CHAR\n",
    "                           for sc, tc in zip(sample, template)),\n",
    "    samples_as_strings\n",
    ")))\n",
    "# samples_filtered"
   ]
  },
  {
   "cell_type": "code",
   "execution_count": 10,
   "metadata": {},
   "outputs": [
    {
     "data": {
      "text/plain": [
       "(10000, 206)"
      ]
     },
     "execution_count": 10,
     "metadata": {},
     "output_type": "execute_result"
    }
   ],
   "source": [
    "len(samples_as_strings), len(samples_filtered)"
   ]
  },
  {
   "cell_type": "code",
   "execution_count": 11,
   "metadata": {},
   "outputs": [
    {
     "data": {
      "text/plain": [
       "True"
      ]
     },
     "execution_count": 11,
     "metadata": {},
     "output_type": "execute_result"
    }
   ],
   "source": [
    "'peter' in samples_filtered"
   ]
  }
 ],
 "metadata": {
  "kernelspec": {
   "display_name": ".venv",
   "language": "python",
   "name": "python3"
  },
  "language_info": {
   "codemirror_mode": {
    "name": "ipython",
    "version": 3
   },
   "file_extension": ".py",
   "mimetype": "text/x-python",
   "name": "python",
   "nbconvert_exporter": "python",
   "pygments_lexer": "ipython3",
   "version": "3.11.5"
  }
 },
 "nbformat": 4,
 "nbformat_minor": 2
}
